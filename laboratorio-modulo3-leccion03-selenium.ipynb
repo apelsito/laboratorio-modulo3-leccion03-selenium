{
 "cells": [
  {
   "cell_type": "code",
   "execution_count": 25,
   "metadata": {},
   "outputs": [],
   "source": [
    "# Importamos las librerías que necesitamos\n",
    "\n",
    "# Librerías de extracción de datos\n",
    "# -----------------------------------------------------------------------\n",
    "import os\n",
    "import dotenv\n",
    "dotenv.load_dotenv()\n",
    "\n",
    "# pip install geopy\n",
    "from geopy.geocoders import Nominatim\n",
    "# Importaciones:\n",
    "# Beautifulsoup\n",
    "from bs4 import BeautifulSoup\n",
    "from tqdm import tqdm\n",
    "# Requests\n",
    "import requests\n",
    "\n",
    "import pandas as pd\n",
    "import numpy as np\n",
    "\n",
    "from time import sleep\n",
    "import random\n",
    "# Importar librerías para automatización de navegadores web con Selenium\n",
    "# -----------------------------------------------------------------------\n",
    "from selenium import webdriver  # Selenium es una herramienta para automatizar la interacción con navegadores web.\n",
    "from webdriver_manager.chrome import ChromeDriverManager  # ChromeDriverManager gestiona la instalación del controlador de Chrome.\n",
    "from selenium.webdriver.common.keys import Keys  # Keys es útil para simular eventos de teclado en Selenium.\n",
    "from selenium.webdriver.support.ui import Select  # Select se utiliza para interactuar con elementos <select> en páginas web.\n",
    "from selenium.webdriver.support.ui import WebDriverWait\n",
    "from selenium.webdriver.support import expected_conditions as EC\n",
    "from selenium.common.exceptions import NoSuchElementException # Excepciones comunes de selenium que nos podemos encontrar "
   ]
  },
  {
   "cell_type": "markdown",
   "metadata": {},
   "source": [
    "# Primero de todo usaremos geopy para formatear el nombre de los municipios\n"
   ]
  },
  {
   "cell_type": "code",
   "execution_count": null,
   "metadata": {},
   "outputs": [],
   "source": [
    "lista_municipios = ['acebeda-la', 'ajalvir', 'alameda-del-valle', 'alamo-el', 'alcala-de-henares', 'alcobendas', 'alcorcon', 'aldea-del-fresno', 'algete', 'alpedrete', 'ambite', 'anchuelo', 'aranjuez', 'arganda-del-rey', 'arroyomolinos', 'atazar-el', 'batres', 'becerril-de-la-sierra', 'belmonte-de-tajo', 'berrueco-el', 'berzosa-del-lozoya', 'boadilla-del-monte', 'boalo-el', 'braojos', 'brea-de-tajo', 'brunete', 'buitrago-del-lozoya', 'bustarviejo', 'cabanillas-de-la-sierra', 'cabrera-la', 'cadalso-de-los-vidrios', 'camarma-de-esteruelas', 'campo-real', 'canencia', 'carabana', 'casarrubuelos', 'cenicientos', 'cercedilla', 'cervera-de-buitrago', 'chapineria', 'chinchon', 'ciempozuelos', 'cobena', 'collado-mediano', 'collado-villalba', 'colmenar-del-arroyo', 'colmenar-de-oreja', 'colmenarejo', 'colmenar-viejo', 'corpa', 'coslada', 'cubas-de-la-sagra', 'daganzo-de-arriba', 'escorial-el', 'estremera', 'fresnedillas-de-la-oliva', 'fresno-de-torote', 'fuenlabrada', 'fuente-el-saz-de-jarama', 'fuentiduena-de-tajo', 'galapagar', 'garganta-de-los-montes', 'gargantilla-del-lozoya-y-pinilla-de-buitrago', 'gascones', 'getafe', 'grinon', 'guadalix-de-la-sierra', 'guadarrama', 'hiruela-la', 'horcajo-de-la-sierra-aoslos', 'horcajuelo-de-la-sierra', 'hoyo-de-manzanares', 'humanes-de-madrid', 'leganes', 'loeches', 'lozoya', 'lozoyuela-navas-sieteiglesias', 'madarcos', 'madrid', 'majadahonda', 'manzanares-el-real', 'meco', 'mejorada-del-campo', 'miraflores-de-la-sierra', 'molar-el', 'molinos-los', 'montejo-de-la-sierra', 'moraleja-de-enmedio', 'moralzarzal', 'morata-de-tajuna', 'mostoles', 'navacerrada', 'navalafuente', 'navalagamella', 'navalcarnero', 'navarredonda-y-san-mames', 'navas-del-rey', 'nuevo-baztan', 'olmeda-de-las-fuentes', 'orusco-de-tajuna', 'paracuellos-de-jarama', 'parla', 'patones', 'pedrezuela', 'pelayos-de-la-presa', 'perales-de-tajuna', 'pezuela-de-las-torres', 'pinilla-del-valle', 'pinto', 'pinuecar-gandullas', 'pozuelo-de-alarcon', 'pozuelo-del-rey', 'pradena-del-rincon', 'puebla-de-la-sierra', 'puentes-viejas-manjiron', 'quijorna', 'rascafria', 'reduena', 'ribatejada', 'rivas-vaciamadrid', 'robledillo-de-la-jara', 'robledo-de-chavela', 'robregordo', 'rozas-de-madrid-las', 'rozas-de-puerto-real', 'san-agustin-del-guadalix', 'san-fernando-de-henares', 'san-lorenzo-de-el-escorial', 'san-martin-de-la-vega', 'san-martin-de-valdeiglesias', 'san-sebastian-de-los-reyes', 'santa-maria-de-la-alameda', 'santorcaz', 'santos-de-la-humosa-los', 'serna-del-monte-la', 'serranillos-del-valle', 'sevilla-la-nueva', 'somosierra', 'soto-del-real', 'talamanca-de-jarama', 'tielmes', 'titulcia', 'torrejon-de-ardoz', 'torrejon-de-la-calzada', 'torrejon-de-velasco', 'torrelaguna', 'torrelodones', 'torremocha-de-jarama', 'torres-de-la-alameda', 'tres-cantos', 'valdaracete', 'valdeavero', 'valdelaguna', 'valdemanco', 'valdemaqueda', 'valdemorillo', 'valdemoro', 'valdeolmos-alalpardo', 'valdepielagos', 'valdetorres-de-jarama', 'valdilecha', 'valverde-de-alcala', 'velilla-de-san-antonio', 'vellon-el', 'venturada', 'villaconejos', 'villa-del-prado', 'villalbilla', 'villamanrique-de-tajo', 'villamanta', 'villamantilla', 'villanueva-de-la-canada', 'villanueva-del-pardillo', 'villanueva-de-perales', 'villar-del-olmo', 'villarejo-de-salvanes', 'villaviciosa-de-odon', 'villavieja-del-lozoya', 'zarzalejo']\n",
    "municipios = []\n",
    "geolocator = Nominatim(user_agent=\"lab-geolocation-GRO\") #User agent debe ser lo que quieras\n",
    "for i in tqdm(range(0,len(lista_municipios))):\n",
    "    location = geolocator.geocode(lista_municipios[i])\n",
    "    name = location.address.split(\",\")[0]\n",
    "    municipios.append(name)"
   ]
  },
  {
   "cell_type": "code",
   "execution_count": null,
   "metadata": {},
   "outputs": [],
   "source": [
    "municipios[-1] = municipios[-1].strip(\" (estación)\")"
   ]
  },
  {
   "cell_type": "markdown",
   "metadata": {},
   "source": [
    "# Obtener Estaciones meteorológicas de Madrid"
   ]
  },
  {
   "cell_type": "code",
   "execution_count": 62,
   "metadata": {},
   "outputs": [],
   "source": [
    "municipios_seleccionados = random.sample(municipios,5)"
   ]
  },
  {
   "cell_type": "code",
   "execution_count": 66,
   "metadata": {},
   "outputs": [
    {
     "name": "stdout",
     "output_type": "stream",
     "text": [
      "intentamos seleccionar Cookies\n",
      "Encontrado\n",
      "intentamos seleccionar Cookies\n",
      "Encontrado\n",
      "intentamos seleccionar Cookies\n",
      "Encontrado\n",
      "intentamos seleccionar Cookies\n",
      "Encontrado\n",
      "intentamos seleccionar Cookies\n",
      "Encontrado\n"
     ]
    },
    {
     "data": {
      "text/html": [
       "<div>\n",
       "<style scoped>\n",
       "    .dataframe tbody tr th:only-of-type {\n",
       "        vertical-align: middle;\n",
       "    }\n",
       "\n",
       "    .dataframe tbody tr th {\n",
       "        vertical-align: top;\n",
       "    }\n",
       "\n",
       "    .dataframe thead th {\n",
       "        text-align: right;\n",
       "    }\n",
       "</style>\n",
       "<table border=\"1\" class=\"dataframe\">\n",
       "  <thead>\n",
       "    <tr style=\"text-align: right;\">\n",
       "      <th></th>\n",
       "      <th>Municipio</th>\n",
       "      <th>Estación Meteorológica</th>\n",
       "    </tr>\n",
       "  </thead>\n",
       "  <tbody>\n",
       "    <tr>\n",
       "      <th>0</th>\n",
       "      <td>Santorcaz</td>\n",
       "      <td>IPIUCA3</td>\n",
       "    </tr>\n",
       "    <tr>\n",
       "      <th>1</th>\n",
       "      <td>Campo Real</td>\n",
       "      <td>IAJALV3</td>\n",
       "    </tr>\n",
       "    <tr>\n",
       "      <th>2</th>\n",
       "      <td>Berzosa del Lozoya</td>\n",
       "      <td>ICOMUNID240</td>\n",
       "    </tr>\n",
       "    <tr>\n",
       "      <th>3</th>\n",
       "      <td>Pedrezuela</td>\n",
       "      <td>IMORAL25</td>\n",
       "    </tr>\n",
       "    <tr>\n",
       "      <th>4</th>\n",
       "      <td>Villanueva de Perales</td>\n",
       "      <td>IALBACET33</td>\n",
       "    </tr>\n",
       "  </tbody>\n",
       "</table>\n",
       "</div>"
      ],
      "text/plain": [
       "               Municipio Estación Meteorológica\n",
       "0              Santorcaz                IPIUCA3\n",
       "1             Campo Real                IAJALV3\n",
       "2     Berzosa del Lozoya            ICOMUNID240\n",
       "3             Pedrezuela               IMORAL25\n",
       "4  Villanueva de Perales             IALBACET33"
      ]
     },
     "execution_count": 66,
     "metadata": {},
     "output_type": "execute_result"
    }
   ],
   "source": [
    "estaciones_meteorologicas = []\n",
    "for i in range(0,len(municipios_seleccionados)):\n",
    "    municipio = municipios[i]\n",
    "    driver = webdriver.Chrome() #Para Abrir chrome solo ejecutar once\n",
    "    url_wunder = f\"https://www.wunderground.com/weather/es/{municipio}\"\n",
    "    driver.get(url_wunder)\n",
    "    #Maximizar ventana\n",
    "    driver.maximize_window() \n",
    "    print(\"intentamos seleccionar Cookies\")\n",
    "    select_cookies = WebDriverWait(driver,40).until(EC.presence_of_element_located(('xpath','//*[@id=\"sp_message_iframe_1165301\"]')))\n",
    "    driver.switch_to.frame(select_cookies)\n",
    "    try:\n",
    "        aceptar_cookies = driver.find_element(\"css selector\", \"#notice > div.message-component.message-row.cta-buttons-container > div.message-component.message-column.cta-button-column.reject-column > button\")\n",
    "        aceptar_cookies.click()\n",
    "        print(\"Encontrado\")\n",
    "    except:\n",
    "        print(\"AY MI CUQUI, no la encuentro\")\n",
    "        driver.quit()\n",
    "        driver = webdriver.Chrome() #Para Abrir chrome solo ejecutar once\n",
    "        driver.get(url_wunder)\n",
    "            #Maximizar ventana\n",
    "        driver.maximize_window() \n",
    "        print(\"intentamos seleccionar Cookies\")\n",
    "        select_cookies = WebDriverWait(driver,40).until(EC.presence_of_element_located(('xpath','//*[@id=\"sp_message_iframe_1165301\"]')))\n",
    "        driver.switch_to.frame(select_cookies)\n",
    "        try:\n",
    "            aceptar_cookies = driver.find_element(\"css selector\", \"#notice > div.message-component.message-row.cta-buttons-container > div.message-component.message-column.cta-button-column.reject-column > button\")\n",
    "            aceptar_cookies.click()\n",
    "            print(\"Encontrado\")\n",
    "            driver.switch_to.default_content()\n",
    "            sleep(5)\n",
    "            driver.find_element(\"css selector\",\"#inner-content > div.region-content-top > lib-city-header > div:nth-child(1) > div > div > a.station-name\").click()\n",
    "            sleep(6)\n",
    "            nombre_estacion = driver.find_element(\"css selector\", f\"#inner-content > div.region-content-top > app-dashboard-header > div.dashboard__header.small-12.ng-star-inserted > div > div.heading > h1\").text.split(\" - \")[1]\n",
    "            estaciones_meteorologicas.append(nombre_estacion)\n",
    "            driver.quit()\n",
    "\n",
    "            df = pd.DataFrame({\n",
    "                \"Municipio\": municipios_seleccionados,\n",
    "                \"Estación Meteorológica\": estaciones_meteorologicas,\n",
    "            })\n",
    "            driver.quit()\n",
    "        except:\n",
    "            print(\"AY MI CUQUI, no la encuentro\")\n",
    "            driver.quit()\n",
    "\n",
    "\n",
    "    driver.switch_to.default_content()\n",
    "    sleep(5)\n",
    "    driver.find_element(\"css selector\",\"#inner-content > div.region-content-top > lib-city-header > div:nth-child(1) > div > div > a.station-name\").click()\n",
    "    sleep(6)\n",
    "    nombre_estacion = driver.find_element(\"css selector\", f\"#inner-content > div.region-content-top > app-dashboard-header > div.dashboard__header.small-12.ng-star-inserted > div > div.heading > h1\").text.split(\" - \")[1]\n",
    "    estaciones_meteorologicas.append(nombre_estacion)\n",
    "    driver.quit()\n",
    "\n",
    "df = pd.DataFrame({\n",
    "    \"Municipio\": municipios_seleccionados,\n",
    "    \"Estación Meteorológica\": estaciones_meteorologicas,\n",
    "})\n",
    "\n",
    "df"
   ]
  },
  {
   "cell_type": "markdown",
   "metadata": {},
   "source": [
    "# Listas del dataframe individuales"
   ]
  },
  {
   "cell_type": "code",
   "execution_count": 69,
   "metadata": {},
   "outputs": [
    {
     "data": {
      "text/plain": [
       "['IPIUCA3', 'IAJALV3', 'ICOMUNID240', 'IMORAL25', 'IALBACET33']"
      ]
     },
     "execution_count": 69,
     "metadata": {},
     "output_type": "execute_result"
    }
   ],
   "source": [
    "municipios_seleccionados\n",
    "estaciones_meteorologicas"
   ]
  },
  {
   "cell_type": "code",
   "execution_count": 67,
   "metadata": {},
   "outputs": [],
   "source": [
    "df.to_csv(\"datos/municipios_to_work.csv\")\n"
   ]
  },
  {
   "cell_type": "markdown",
   "metadata": {},
   "source": [
    "# Toca sacar tabla de los datos mensuales"
   ]
  },
  {
   "cell_type": "code",
   "execution_count": 21,
   "metadata": {},
   "outputs": [
    {
     "data": {
      "text/html": [
       "<div>\n",
       "<style scoped>\n",
       "    .dataframe tbody tr th:only-of-type {\n",
       "        vertical-align: middle;\n",
       "    }\n",
       "\n",
       "    .dataframe tbody tr th {\n",
       "        vertical-align: top;\n",
       "    }\n",
       "\n",
       "    .dataframe thead th {\n",
       "        text-align: right;\n",
       "    }\n",
       "</style>\n",
       "<table border=\"1\" class=\"dataframe\">\n",
       "  <thead>\n",
       "    <tr style=\"text-align: right;\">\n",
       "      <th></th>\n",
       "      <th>Municipio</th>\n",
       "      <th>Estación Meteorológica</th>\n",
       "    </tr>\n",
       "  </thead>\n",
       "  <tbody>\n",
       "    <tr>\n",
       "      <th>0</th>\n",
       "      <td>Santorcaz</td>\n",
       "      <td>IPIUCA3</td>\n",
       "    </tr>\n",
       "    <tr>\n",
       "      <th>1</th>\n",
       "      <td>Campo Real</td>\n",
       "      <td>IAJALV3</td>\n",
       "    </tr>\n",
       "    <tr>\n",
       "      <th>2</th>\n",
       "      <td>Berzosa del Lozoya</td>\n",
       "      <td>ICOMUNID240</td>\n",
       "    </tr>\n",
       "    <tr>\n",
       "      <th>3</th>\n",
       "      <td>Pedrezuela</td>\n",
       "      <td>IMORAL25</td>\n",
       "    </tr>\n",
       "    <tr>\n",
       "      <th>4</th>\n",
       "      <td>Villanueva de Perales</td>\n",
       "      <td>IALBACET33</td>\n",
       "    </tr>\n",
       "  </tbody>\n",
       "</table>\n",
       "</div>"
      ],
      "text/plain": [
       "               Municipio Estación Meteorológica\n",
       "0              Santorcaz                IPIUCA3\n",
       "1             Campo Real                IAJALV3\n",
       "2     Berzosa del Lozoya            ICOMUNID240\n",
       "3             Pedrezuela               IMORAL25\n",
       "4  Villanueva de Perales             IALBACET33"
      ]
     },
     "execution_count": 21,
     "metadata": {},
     "output_type": "execute_result"
    }
   ],
   "source": [
    "df = pd.read_csv(\"datos/municipios_to_work.csv\",index_col=\"Unnamed: 0\")\n",
    "df"
   ]
  },
  {
   "cell_type": "code",
   "execution_count": 27,
   "metadata": {},
   "outputs": [],
   "source": [
    "municipios_seleccionados = df[\"Municipio\"].to_list()\n",
    "estaciones_meteorologicas = df[\"Estación Meteorológica\"].to_list()\n"
   ]
  },
  {
   "cell_type": "code",
   "execution_count": 31,
   "metadata": {},
   "outputs": [],
   "source": [
    "fechas = [\"2024-1-1/2024-1-1\",\"2024-2-1/2024-2-1\",\"2024-3-1/2024-3-1\",\"2024-4-1/2024-4-1\",\"2024-5-1/2024-5-1\",\"2024-6-1/2024-6-1\",\"2024-7-1/2024-7-1\",\"2024-8-1/2024-8-1\",\"2024-9-1/2024-9-1\",\"2024-10-1/2024-10-1\"]"
   ]
  },
  {
   "cell_type": "code",
   "execution_count": 32,
   "metadata": {},
   "outputs": [
    {
     "name": "stdout",
     "output_type": "stream",
     "text": [
      "intentamos seleccionar Cookies\n",
      "Encontrado\n"
     ]
    }
   ],
   "source": [
    "estacion_meteorologica = estaciones_meteorologicas[0]\n",
    "driver = webdriver.Chrome() #Para Abrir chrome solo ejecutar once\n",
    "url_wunder = f\"https://www.wunderground.com/dashboard/pws/{estacion_meteorologica}/table/{fechas[0]}/monthly\"\n",
    "driver.get(url_wunder)\n",
    "#Maximizar ventana\n",
    "driver.maximize_window() \n",
    "print(\"intentamos seleccionar Cookies\")\n",
    "select_cookies = WebDriverWait(driver,40).until(EC.presence_of_element_located(('xpath','//*[@id=\"sp_message_iframe_1165301\"]')))\n",
    "driver.switch_to.frame(select_cookies)\n",
    "try:\n",
    "    aceptar_cookies = driver.find_element(\"css selector\", \"#notice > div.message-component.message-row.cta-buttons-container > div.message-component.message-column.cta-button-column.reject-column > button\")\n",
    "    aceptar_cookies.click()\n",
    "    print(\"Encontrado\")\n",
    "except:\n",
    "    print(\"AY MI CUQUI, no la encuentro\")\n",
    "\n",
    "driver.switch_to.default_content()\n",
    "sleep(5)\n",
    "\n",
    "tabla = driver.find_element(\"css selector\",\"#main-page-content > div > div > div > lib-history > div.history-tabs > lib-history-table > div > div > div\")\n",
    "tabla_text = tabla.text\n",
    "tabla_split = tabla_text.split(\"\\n\")\n",
    "sleep(6)\n",
    "\n"
   ]
  },
  {
   "cell_type": "code",
   "execution_count": null,
   "metadata": {},
   "outputs": [],
   "source": [
    "for e in range(0,len(estaciones_meteorologicas)):\n",
    "    estacion_meteorologica = estaciones_meteorologicas[i]\n",
    "\n",
    "\n",
    "driver = webdriver.Chrome() #Para Abrir chrome solo ejecutar once\n",
    "url_wunder = f\"https://www.wunderground.com/dashboard/pws/{estacion_meteorologica}/table/{fechas[0]}/monthly\"\n",
    "driver.get(url_wunder)\n",
    "#Maximizar ventana\n",
    "driver.maximize_window() \n",
    "print(\"intentamos seleccionar Cookies\")\n",
    "select_cookies = WebDriverWait(driver,40).until(EC.presence_of_element_located(('xpath','//*[@id=\"sp_message_iframe_1165301\"]')))\n",
    "driver.switch_to.frame(select_cookies)\n",
    "try:\n",
    "    aceptar_cookies = driver.find_element(\"css selector\", \"#notice > div.message-component.message-row.cta-buttons-container > div.message-component.message-column.cta-button-column.reject-column > button\")\n",
    "    aceptar_cookies.click()\n",
    "    print(\"Encontrado\")\n",
    "except:\n",
    "    print(\"AY MI CUQUI, no la encuentro\")\n",
    "\n",
    "driver.switch_to.default_content()\n",
    "sleep(5)\n",
    "\n",
    "tabla = driver.find_element(\"css selector\",\"#main-page-content > div > div > div > lib-history > div.history-tabs > lib-history-table > div > div > div\")\n",
    "tabla_text = tabla.text\n",
    "tabla_split = tabla_text.split(\"\\n\")\n",
    "sleep(6)\n"
   ]
  },
  {
   "cell_type": "code",
   "execution_count": 33,
   "metadata": {},
   "outputs": [
    {
     "data": {
      "text/plain": [
       "['Temperature Dew Point Humidity Speed Pressure Precip. Accum.',\n",
       " 'Date High Avg Low High Avg Low High Avg Low High Avg Low High Low Sum',\n",
       " '1/1/2024 48.9 °F 39.6 °F 34.2 °F 38.1 °F 31.6 °F 19.9 °F 97 % 75 % 33 % 8.5 mph 0.9 mph 0.0 mph 30.04 in 29.92 in 0.00 in',\n",
       " '1/2/2024 41.0 °F 35.3 °F 32.0 °F 40.6 °F 34.7 °F 30.7 °F 99 % 98 % 93 % 4.9 mph 0.4 mph 0.0 mph 30.04 in 29.94 in 0.06 in',\n",
       " '1/3/2024 52.0 °F 45.4 °F 40.6 °F 49.6 °F 44.0 °F 38.3 °F 99 % 95 % 82 % 9.6 mph 0.7 mph 0.0 mph 29.99 in 29.91 in 0.24 in',\n",
       " '1/4/2024 45.7 °F 40.6 °F 34.2 °F 43.2 °F 39.2 °F 33.6 °F 99 % 95 % 82 % 6.0 mph 0.3 mph 0.0 mph 29.98 in 29.68 in 0.05 in',\n",
       " '1/5/2024 41.5 °F 36.5 °F 34.2 °F 38.5 °F 33.5 °F 31.3 °F 98 % 89 % 76 % 14.3 mph 2.7 mph 0.0 mph 29.79 in 29.61 in 0.29 in',\n",
       " '1/6/2024 38.5 °F 34.6 °F 31.3 °F 32.5 °F 30.8 °F 28.2 °F 96 % 87 % 77 % 13.9 mph 3.8 mph 0.0 mph 29.98 in 29.78 in 0.04 in',\n",
       " '1/7/2024 37.0 °F 33.9 °F 30.4 °F 30.9 °F 29.1 °F 27.1 °F 92 % 82 % 70 % 12.1 mph 1.6 mph 0.0 mph 30.03 in 29.96 in 0.00 in',\n",
       " '1/8/2024 42.8 °F 34.9 °F 30.2 °F 30.2 °F 26.9 °F 20.5 °F 87 % 74 % 43 % 11.6 mph 2.5 mph 0.0 mph 29.99 in 29.89 in 0.00 in',\n",
       " '1/9/2024 38.5 °F 34.8 °F 32.4 °F 35.1 °F 32.3 °F 27.9 °F 98 % 91 % 82 % 5.1 mph 0.4 mph 0.0 mph 29.94 in 29.88 in 0.00 in',\n",
       " '1/10/2024 41.0 °F 35.9 °F 32.2 °F 38.8 °F 35.2 °F 31.8 °F 99 % 98 % 84 % 6.5 mph 0.3 mph 0.0 mph 29.92 in 29.86 in 0.39 in',\n",
       " '1/11/2024 37.0 °F 33.3 °F 26.2 °F 34.3 °F 28.3 °F 22.5 °F 99 % 82 % 64 % 11.4 mph 3.0 mph 0.0 mph 30.04 in 29.89 in 0.08 in',\n",
       " '1/12/2024 40.3 °F 30.1 °F 21.0 °F 28.0 °F 24.1 °F 19.0 °F 94 % 79 % 45 % 4.9 mph 0.3 mph 0.0 mph 30.12 in 30.02 in 0.00 in',\n",
       " '1/13/2024 47.7 °F 36.8 °F 27.1 °F 37.4 °F 32.0 °F 25.0 °F 93 % 84 % 58 % 4.0 mph 0.3 mph 0.0 mph 30.13 in 30.02 in 0.00 in',\n",
       " '1/14/2024 48.2 °F 42.9 °F 35.6 °F 45.0 °F 40.4 °F 34.2 °F 99 % 91 % 75 % 8.1 mph 0.7 mph 0.0 mph 30.04 in 29.89 in 0.06 in',\n",
       " '1/15/2024 55.0 °F 47.6 °F 42.3 °F 52.5 °F 47.0 °F 41.9 °F 99 % 98 % 88 % 7.4 mph 0.5 mph 0.0 mph 29.90 in 29.79 in 0.67 in',\n",
       " '1/16/2024 50.9 °F 48.6 °F 45.0 °F 50.0 °F 47.9 °F 44.2 °F 99 % 98 % 86 % 15.4 mph 1.7 mph 0.0 mph 29.85 in 29.68 in 0.13 in',\n",
       " '1/17/2024 49.1 °F 45.8 °F 39.6 °F 46.4 °F 43.7 °F 36.7 °F 99 % 93 % 68 % 14.8 mph 3.5 mph 0.0 mph 29.70 in 29.47 in 0.65 in',\n",
       " '1/18/2024 58.3 °F 47.5 °F 41.9 °F 47.8 °F 41.0 °F 36.0 °F 99 % 80 % 49 % 18.8 mph 2.0 mph 0.0 mph 29.75 in 29.61 in 0.00 in',\n",
       " '1/19/2024 43.7 °F 38.8 °F 33.4 °F 42.1 °F 37.5 °F 31.3 °F 99 % 95 % 83 % 13.2 mph 1.1 mph 0.0 mph 29.79 in 29.56 in 0.77 in',\n",
       " '1/20/2024 47.7 °F 38.2 °F 29.7 °F 36.1 °F 31.1 °F 19.4 °F 97 % 78 % 33 % 14.5 mph 1.9 mph 0.0 mph 30.23 in 29.78 in 0.00 in',\n",
       " '1/21/2024 50.7 °F 37.9 °F 27.3 °F 40.1 °F 33.4 °F 27.0 °F 99 % 86 % 45 % 5.8 mph 0.5 mph 0.0 mph 30.36 in 30.22 in 0.00 in',\n",
       " '1/22/2024 57.7 °F 46.4 °F 33.8 °F 47.8 °F 42.3 °F 33.1 °F 99 % 86 % 58 % 11.2 mph 1.2 mph 0.0 mph 30.44 in 30.32 in 0.00 in',\n",
       " '1/23/2024 64.8 °F 52.4 °F 43.9 °F 51.1 °F 45.9 °F 42.4 °F 96 % 80 % 47 % 8.1 mph 1.1 mph 0.0 mph 30.50 in 30.41 in 0.00 in',\n",
       " '1/24/2024 66.7 °F 52.9 °F 41.5 °F 48.4 °F 41.0 °F 34.0 °F 96 % 66 % 35 % 4.5 mph 0.4 mph 0.0 mph 30.51 in 30.44 in 0.00 in',\n",
       " '1/25/2024 71.2 °F 54.6 °F 42.3 °F 47.7 °F 38.7 °F 32.2 °F 75 % 56 % 30 % 3.8 mph 0.4 mph 0.0 mph 30.46 in 30.33 in 0.00 in',\n",
       " '1/26/2024 68.2 °F 55.2 °F 45.3 °F 46.0 °F 36.2 °F 32.0 °F 72 % 50 % 29 % 4.9 mph 0.4 mph 0.0 mph 30.38 in 30.30 in 0.00 in',\n",
       " '1/27/2024 66.4 °F 53.2 °F 43.7 °F 43.9 °F 35.8 °F 29.7 °F 71 % 53 % 27 % 3.8 mph 0.2 mph 0.0 mph 30.32 in 30.22 in 0.00 in',\n",
       " '1/28/2024 59.4 °F 48.8 °F 38.5 °F 44.8 °F 39.7 °F 35.4 °F 90 % 72 % 52 % 6.5 mph 0.5 mph 0.0 mph 30.25 in 30.18 in 0.00 in',\n",
       " '1/29/2024 57.0 °F 47.3 °F 40.1 °F 44.8 °F 40.5 °F 37.0 °F 91 % 78 % 58 % 4.3 mph 0.3 mph 0.0 mph 30.27 in 30.19 in 0.00 in',\n",
       " '1/30/2024 58.8 °F 45.2 °F 36.3 °F 45.7 °F 40.2 °F 35.6 °F 98 % 84 % 50 % 5.6 mph 0.4 mph 0.0 mph 30.34 in 30.25 in 0.00 in',\n",
       " '1/31/2024 59.4 °F 44.9 °F 34.2 °F 46.8 °F 36.8 °F 27.7 °F 98 % 76 % 41 % 10.3 mph 0.9 mph 0.0 mph 30.39 in 30.31 in 0.01 in']"
      ]
     },
     "execution_count": 33,
     "metadata": {},
     "output_type": "execute_result"
    }
   ],
   "source": [
    "tabla_split\n"
   ]
  },
  {
   "cell_type": "code",
   "execution_count": 13,
   "metadata": {},
   "outputs": [],
   "source": [
    "\n",
    "df = pd.DataFrame(columns=[\"Date\"])\n"
   ]
  },
  {
   "cell_type": "code",
   "execution_count": 15,
   "metadata": {},
   "outputs": [
    {
     "data": {
      "text/html": [
       "<div>\n",
       "<style scoped>\n",
       "    .dataframe tbody tr th:only-of-type {\n",
       "        vertical-align: middle;\n",
       "    }\n",
       "\n",
       "    .dataframe tbody tr th {\n",
       "        vertical-align: top;\n",
       "    }\n",
       "\n",
       "    .dataframe thead tr th {\n",
       "        text-align: left;\n",
       "    }\n",
       "</style>\n",
       "<table border=\"1\" class=\"dataframe\">\n",
       "  <thead>\n",
       "    <tr>\n",
       "      <th></th>\n",
       "      <th colspan=\"2\" halign=\"left\">AAPL</th>\n",
       "      <th colspan=\"2\" halign=\"left\">DELL</th>\n",
       "    </tr>\n",
       "    <tr>\n",
       "      <th></th>\n",
       "      <th>Open</th>\n",
       "      <th>Close</th>\n",
       "      <th>Open</th>\n",
       "      <th>Close</th>\n",
       "    </tr>\n",
       "  </thead>\n",
       "  <tbody>\n",
       "  </tbody>\n",
       "</table>\n",
       "</div>"
      ],
      "text/plain": [
       "Empty DataFrame\n",
       "Columns: [(AAPL, Open), (AAPL, Close), (DELL, Open), (DELL, Close)]\n",
       "Index: []"
      ]
     },
     "execution_count": 15,
     "metadata": {},
     "output_type": "execute_result"
    }
   ],
   "source": [
    "\n"
   ]
  },
  {
   "cell_type": "code",
   "execution_count": 10,
   "metadata": {},
   "outputs": [
    {
     "data": {
      "text/plain": [
       "['Temperature Dew Point Humidity Speed Pressure Precip. Accum.',\n",
       " 'Date High Avg Low High Avg Low High Avg Low High Avg Low High Low Sum',\n",
       " '10/1/2024 74.8 °F 62.0 °F 50.5 °F 56.1 °F 47.0 °F 39.9 °F 76 % 59 % 32 % 6.5 mph 0.5 mph 0.0 mph 30.05 in 29.94 in 0.00 in',\n",
       " '10/2/2024 66.4 °F 61.7 °F 55.9 °F 60.4 °F 57.3 °F 54.1 °F 99 % 86 % 72 % 10.5 mph 1.0 mph 0.0 mph 29.98 in 29.76 in 0.83 in',\n",
       " '10/3/2024 64.8 °F 55.9 °F 50.2 °F 54.7 °F 48.9 °F 44.8 °F 98 % 79 % 50 % 12.3 mph 2.2 mph 0.0 mph 29.94 in 29.81 in 0.10 in',\n",
       " '10/4/2024 67.8 °F 57.2 °F 48.9 °F 55.4 °F 48.8 °F 41.4 °F 90 % 74 % 53 % 6.9 mph 0.9 mph 0.0 mph 29.95 in 29.89 in 0.00 in',\n",
       " '10/5/2024 70.7 °F 59.4 °F 47.7 °F 57.9 °F 51.9 °F 45.9 °F 96 % 77 % 55 % 4.0 mph 0.3 mph 0.0 mph 29.94 in 29.87 in 0.00 in',\n",
       " '10/6/2024 66.4 °F 61.0 °F 57.2 °F 59.9 °F 55.3 °F 50.9 °F 90 % 82 % 69 % 6.0 mph 0.9 mph 0.0 mph 29.89 in 29.80 in 0.00 in',\n",
       " '10/7/2024 59.5 °F 55.0 °F 46.8 °F 56.1 °F 53.2 °F 45.7 °F 99 % 94 % 85 % 6.9 mph 0.8 mph 0.0 mph 29.81 in 29.65 in 0.43 in',\n",
       " '10/8/2024 58.1 °F 52.4 °F 45.9 °F 54.0 °F 48.8 °F 43.5 °F 99 % 88 % 63 % 7.4 mph 0.7 mph 0.0 mph 29.83 in 29.73 in 0.02 in',\n",
       " '10/9/2024 65.5 °F 54.7 °F 50.9 °F 60.6 °F 52.9 °F 48.0 °F 99 % 94 % 67 % 9.4 mph 2.4 mph 0.0 mph 29.79 in 29.52 in 0.11 in',\n",
       " '10/10/2024 61.0 °F 50.8 °F 42.4 °F 49.1 °F 43.1 °F 38.7 °F 95 % 77 % 48 % 6.7 mph 0.8 mph 0.0 mph 29.92 in 29.72 in 0.04 in',\n",
       " '10/11/2024 60.8 °F 49.6 °F 37.6 °F 49.8 °F 43.7 °F 36.1 °F 97 % 81 % 58 % 7.4 mph 1.0 mph 0.0 mph 29.93 in 29.84 in 0.00 in',\n",
       " '10/12/2024 58.5 °F 54.2 °F 51.4 °F 56.5 °F 53.4 °F 48.9 °F 99 % 97 % 88 % 5.4 mph 0.5 mph 0.0 mph 29.97 in 29.78 in 0.43 in',\n",
       " '10/13/2024 68.7 °F 58.5 °F 49.5 °F 58.8 °F 53.7 °F 49.1 °F 99 % 85 % 62 % 6.5 mph 0.6 mph 0.0 mph 30.05 in 29.95 in 0.01 in',\n",
       " '10/14/2024 68.9 °F 60.0 °F 51.4 °F 61.0 °F 56.0 °F 50.9 °F 99 % 87 % 69 % 5.6 mph 0.3 mph 0.0 mph 30.04 in 29.89 in 0.00 in',\n",
       " '10/15/2024 63.1 °F 57.8 °F 54.5 °F 59.2 °F 56.4 °F 53.4 °F 99 % 95 % 85 % 11.6 mph 2.9 mph 0.0 mph 29.90 in 29.72 in 0.52 in',\n",
       " '10/16/2024 68.5 °F 57.7 °F 54.0 °F 63.0 °F 56.2 °F 53.6 °F 99 % 95 % 74 % 13.0 mph 3.5 mph 0.0 mph 29.77 in 29.63 in 1.37 in']"
      ]
     },
     "execution_count": 10,
     "metadata": {},
     "output_type": "execute_result"
    }
   ],
   "source": []
  },
  {
   "cell_type": "code",
   "execution_count": 57,
   "metadata": {},
   "outputs": [],
   "source": [
    "nombre_estacion"
   ]
  },
  {
   "cell_type": "code",
   "execution_count": 49,
   "metadata": {},
   "outputs": [
    {
     "name": "stdout",
     "output_type": "stream",
     "text": [
      "intentamos seleccionar Cookies\n",
      "Encontrado\n"
     ]
    },
    {
     "ename": "ElementNotInteractableException",
     "evalue": "Message: element not interactable\n  (Session info: chrome=129.0.6668.101)\nStacktrace:\n\tGetHandleVerifier [0x00007FF6ED4FB095+29557]\n\t(No symbol) [0x00007FF6ED46FA50]\n\t(No symbol) [0x00007FF6ED32B399]\n\t(No symbol) [0x00007FF6ED378FB3]\n\t(No symbol) [0x00007FF6ED37717C]\n\t(No symbol) [0x00007FF6ED3A718A]\n\t(No symbol) [0x00007FF6ED372E86]\n\t(No symbol) [0x00007FF6ED3A73A0]\n\t(No symbol) [0x00007FF6ED3C851C]\n\t(No symbol) [0x00007FF6ED3A6F33]\n\t(No symbol) [0x00007FF6ED37116F]\n\t(No symbol) [0x00007FF6ED3722D1]\n\tGetHandleVerifier [0x00007FF6ED82C96D+3378253]\n\tGetHandleVerifier [0x00007FF6ED878497+3688311]\n\tGetHandleVerifier [0x00007FF6ED86D1CB+3642539]\n\tGetHandleVerifier [0x00007FF6ED5BA6B6+813462]\n\t(No symbol) [0x00007FF6ED47AB5F]\n\t(No symbol) [0x00007FF6ED476B74]\n\t(No symbol) [0x00007FF6ED476D10]\n\t(No symbol) [0x00007FF6ED465C1F]\n\tBaseThreadInitThunk [0x00007FF9058C257D+29]\n\tRtlUserThreadStart [0x00007FF9070CAF08+40]\n",
     "output_type": "error",
     "traceback": [
      "\u001b[1;31m---------------------------------------------------------------------------\u001b[0m",
      "\u001b[1;31mElementNotInteractableException\u001b[0m           Traceback (most recent call last)",
      "Cell \u001b[1;32mIn[49], line 22\u001b[0m\n\u001b[0;32m     20\u001b[0m sleep(\u001b[38;5;241m2\u001b[39m)\n\u001b[0;32m     21\u001b[0m driver\u001b[38;5;241m.\u001b[39mimplicitly_wait(\u001b[38;5;241m10\u001b[39m)\n\u001b[1;32m---> 22\u001b[0m \u001b[43mdriver\u001b[49m\u001b[38;5;241;43m.\u001b[39;49m\u001b[43mfind_element\u001b[49m\u001b[43m(\u001b[49m\u001b[38;5;124;43m'\u001b[39;49m\u001b[38;5;124;43mcss selector\u001b[39;49m\u001b[38;5;124;43m'\u001b[39;49m\u001b[43m,\u001b[49m\u001b[38;5;124;43m'\u001b[39;49m\u001b[38;5;124;43m#wuSearch-contain\u001b[39;49m\u001b[38;5;124;43m'\u001b[39;49m\u001b[43m)\u001b[49m\u001b[38;5;241;43m.\u001b[39;49m\u001b[43msend_keys\u001b[49m\u001b[43m(\u001b[49m\u001b[38;5;124;43m\"\u001b[39;49m\u001b[38;5;124;43mValdemoro\u001b[39;49m\u001b[38;5;124;43m\"\u001b[39;49m\u001b[43m)\u001b[49m\n\u001b[0;32m     23\u001b[0m sleep(\u001b[38;5;241m1\u001b[39m)\n\u001b[0;32m     24\u001b[0m driver\u001b[38;5;241m.\u001b[39mfind_element(\u001b[38;5;124m'\u001b[39m\u001b[38;5;124mcss selector\u001b[39m\u001b[38;5;124m'\u001b[39m,\u001b[38;5;124m\"\u001b[39m\u001b[38;5;124mbody > app-root > app-history-search > one-column-layout > wu-header > sidenav > mat-sidenav-container > mat-sidenav-content > div.favoritesBar > div.actions > lib-search\u001b[39m\u001b[38;5;124m\"\u001b[39m)\u001b[38;5;241m.\u001b[39msend_keys(Keys\u001b[38;5;241m.\u001b[39mENTER)\n",
      "File \u001b[1;32m~\\AppData\\Local\\Packages\\PythonSoftwareFoundation.Python.3.11_qbz5n2kfra8p0\\LocalCache\\local-packages\\Python311\\site-packages\\selenium\\webdriver\\remote\\webelement.py:231\u001b[0m, in \u001b[0;36mWebElement.send_keys\u001b[1;34m(self, *value)\u001b[0m\n\u001b[0;32m    228\u001b[0m             remote_files\u001b[38;5;241m.\u001b[39mappend(\u001b[38;5;28mself\u001b[39m\u001b[38;5;241m.\u001b[39m_upload(file))\n\u001b[0;32m    229\u001b[0m         value \u001b[38;5;241m=\u001b[39m \u001b[38;5;124m\"\u001b[39m\u001b[38;5;130;01m\\n\u001b[39;00m\u001b[38;5;124m\"\u001b[39m\u001b[38;5;241m.\u001b[39mjoin(remote_files)\n\u001b[1;32m--> 231\u001b[0m \u001b[38;5;28;43mself\u001b[39;49m\u001b[38;5;241;43m.\u001b[39;49m\u001b[43m_execute\u001b[49m\u001b[43m(\u001b[49m\n\u001b[0;32m    232\u001b[0m \u001b[43m    \u001b[49m\u001b[43mCommand\u001b[49m\u001b[38;5;241;43m.\u001b[39;49m\u001b[43mSEND_KEYS_TO_ELEMENT\u001b[49m\u001b[43m,\u001b[49m\u001b[43m \u001b[49m\u001b[43m{\u001b[49m\u001b[38;5;124;43m\"\u001b[39;49m\u001b[38;5;124;43mtext\u001b[39;49m\u001b[38;5;124;43m\"\u001b[39;49m\u001b[43m:\u001b[49m\u001b[43m \u001b[49m\u001b[38;5;124;43m\"\u001b[39;49m\u001b[38;5;124;43m\"\u001b[39;49m\u001b[38;5;241;43m.\u001b[39;49m\u001b[43mjoin\u001b[49m\u001b[43m(\u001b[49m\u001b[43mkeys_to_typing\u001b[49m\u001b[43m(\u001b[49m\u001b[43mvalue\u001b[49m\u001b[43m)\u001b[49m\u001b[43m)\u001b[49m\u001b[43m,\u001b[49m\u001b[43m \u001b[49m\u001b[38;5;124;43m\"\u001b[39;49m\u001b[38;5;124;43mvalue\u001b[39;49m\u001b[38;5;124;43m\"\u001b[39;49m\u001b[43m:\u001b[49m\u001b[43m \u001b[49m\u001b[43mkeys_to_typing\u001b[49m\u001b[43m(\u001b[49m\u001b[43mvalue\u001b[49m\u001b[43m)\u001b[49m\u001b[43m}\u001b[49m\n\u001b[0;32m    233\u001b[0m \u001b[43m\u001b[49m\u001b[43m)\u001b[49m\n",
      "File \u001b[1;32m~\\AppData\\Local\\Packages\\PythonSoftwareFoundation.Python.3.11_qbz5n2kfra8p0\\LocalCache\\local-packages\\Python311\\site-packages\\selenium\\webdriver\\remote\\webelement.py:395\u001b[0m, in \u001b[0;36mWebElement._execute\u001b[1;34m(self, command, params)\u001b[0m\n\u001b[0;32m    393\u001b[0m     params \u001b[38;5;241m=\u001b[39m {}\n\u001b[0;32m    394\u001b[0m params[\u001b[38;5;124m\"\u001b[39m\u001b[38;5;124mid\u001b[39m\u001b[38;5;124m\"\u001b[39m] \u001b[38;5;241m=\u001b[39m \u001b[38;5;28mself\u001b[39m\u001b[38;5;241m.\u001b[39m_id\n\u001b[1;32m--> 395\u001b[0m \u001b[38;5;28;01mreturn\u001b[39;00m \u001b[38;5;28;43mself\u001b[39;49m\u001b[38;5;241;43m.\u001b[39;49m\u001b[43m_parent\u001b[49m\u001b[38;5;241;43m.\u001b[39;49m\u001b[43mexecute\u001b[49m\u001b[43m(\u001b[49m\u001b[43mcommand\u001b[49m\u001b[43m,\u001b[49m\u001b[43m \u001b[49m\u001b[43mparams\u001b[49m\u001b[43m)\u001b[49m\n",
      "File \u001b[1;32m~\\AppData\\Local\\Packages\\PythonSoftwareFoundation.Python.3.11_qbz5n2kfra8p0\\LocalCache\\local-packages\\Python311\\site-packages\\selenium\\webdriver\\remote\\webdriver.py:347\u001b[0m, in \u001b[0;36mWebDriver.execute\u001b[1;34m(self, driver_command, params)\u001b[0m\n\u001b[0;32m    345\u001b[0m response \u001b[38;5;241m=\u001b[39m \u001b[38;5;28mself\u001b[39m\u001b[38;5;241m.\u001b[39mcommand_executor\u001b[38;5;241m.\u001b[39mexecute(driver_command, params)\n\u001b[0;32m    346\u001b[0m \u001b[38;5;28;01mif\u001b[39;00m response:\n\u001b[1;32m--> 347\u001b[0m     \u001b[38;5;28;43mself\u001b[39;49m\u001b[38;5;241;43m.\u001b[39;49m\u001b[43merror_handler\u001b[49m\u001b[38;5;241;43m.\u001b[39;49m\u001b[43mcheck_response\u001b[49m\u001b[43m(\u001b[49m\u001b[43mresponse\u001b[49m\u001b[43m)\u001b[49m\n\u001b[0;32m    348\u001b[0m     response[\u001b[38;5;124m\"\u001b[39m\u001b[38;5;124mvalue\u001b[39m\u001b[38;5;124m\"\u001b[39m] \u001b[38;5;241m=\u001b[39m \u001b[38;5;28mself\u001b[39m\u001b[38;5;241m.\u001b[39m_unwrap_value(response\u001b[38;5;241m.\u001b[39mget(\u001b[38;5;124m\"\u001b[39m\u001b[38;5;124mvalue\u001b[39m\u001b[38;5;124m\"\u001b[39m, \u001b[38;5;28;01mNone\u001b[39;00m))\n\u001b[0;32m    349\u001b[0m     \u001b[38;5;28;01mreturn\u001b[39;00m response\n",
      "File \u001b[1;32m~\\AppData\\Local\\Packages\\PythonSoftwareFoundation.Python.3.11_qbz5n2kfra8p0\\LocalCache\\local-packages\\Python311\\site-packages\\selenium\\webdriver\\remote\\errorhandler.py:229\u001b[0m, in \u001b[0;36mErrorHandler.check_response\u001b[1;34m(self, response)\u001b[0m\n\u001b[0;32m    227\u001b[0m         alert_text \u001b[38;5;241m=\u001b[39m value[\u001b[38;5;124m\"\u001b[39m\u001b[38;5;124malert\u001b[39m\u001b[38;5;124m\"\u001b[39m]\u001b[38;5;241m.\u001b[39mget(\u001b[38;5;124m\"\u001b[39m\u001b[38;5;124mtext\u001b[39m\u001b[38;5;124m\"\u001b[39m)\n\u001b[0;32m    228\u001b[0m     \u001b[38;5;28;01mraise\u001b[39;00m exception_class(message, screen, stacktrace, alert_text)  \u001b[38;5;66;03m# type: ignore[call-arg]  # mypy is not smart enough here\u001b[39;00m\n\u001b[1;32m--> 229\u001b[0m \u001b[38;5;28;01mraise\u001b[39;00m exception_class(message, screen, stacktrace)\n",
      "\u001b[1;31mElementNotInteractableException\u001b[0m: Message: element not interactable\n  (Session info: chrome=129.0.6668.101)\nStacktrace:\n\tGetHandleVerifier [0x00007FF6ED4FB095+29557]\n\t(No symbol) [0x00007FF6ED46FA50]\n\t(No symbol) [0x00007FF6ED32B399]\n\t(No symbol) [0x00007FF6ED378FB3]\n\t(No symbol) [0x00007FF6ED37717C]\n\t(No symbol) [0x00007FF6ED3A718A]\n\t(No symbol) [0x00007FF6ED372E86]\n\t(No symbol) [0x00007FF6ED3A73A0]\n\t(No symbol) [0x00007FF6ED3C851C]\n\t(No symbol) [0x00007FF6ED3A6F33]\n\t(No symbol) [0x00007FF6ED37116F]\n\t(No symbol) [0x00007FF6ED3722D1]\n\tGetHandleVerifier [0x00007FF6ED82C96D+3378253]\n\tGetHandleVerifier [0x00007FF6ED878497+3688311]\n\tGetHandleVerifier [0x00007FF6ED86D1CB+3642539]\n\tGetHandleVerifier [0x00007FF6ED5BA6B6+813462]\n\t(No symbol) [0x00007FF6ED47AB5F]\n\t(No symbol) [0x00007FF6ED476B74]\n\t(No symbol) [0x00007FF6ED476D10]\n\t(No symbol) [0x00007FF6ED465C1F]\n\tBaseThreadInitThunk [0x00007FF9058C257D+29]\n\tRtlUserThreadStart [0x00007FF9070CAF08+40]\n"
     ]
    }
   ],
   "source": [
    "driver = webdriver.Chrome() #Para Abrir chrome solo ejecutar once\n",
    "url_wunder = \"https://www.wunderground.com/history\"\n",
    "driver.get(url_wunder)\n",
    "#Maximizar ventana\n",
    "driver.maximize_window() \n",
    "print(\"intentamos seleccionar Cookies\")\n",
    "select_cookies = WebDriverWait(driver,40).until(EC.presence_of_element_located(('xpath','//*[@id=\"sp_message_iframe_1165301\"]')))\n",
    "driver.switch_to.frame(select_cookies)\n",
    "try:\n",
    "    aceptar_cookies = driver.find_element(\"css selector\", \"#notice > div.message-component.message-row.cta-buttons-container > div.message-component.message-column.cta-button-column.reject-column > button\")\n",
    "    aceptar_cookies.click()\n",
    "    print(\"Encontrado\")\n",
    "except:\n",
    "    print(\"AY MI CUQUI, no la encuentro\")\n",
    "\n",
    "#Encontremos cajita del input, enviamos el texto y presionamos TAB\n",
    "driver.switch_to.default_content()\n",
    "sleep(5) \n",
    "driver.find_element(\"css selector\",\"body > app-root > app-history-search > one-column-layout > wu-header > sidenav > mat-sidenav-container > mat-sidenav-content > div.favoritesBar > div.actions > lib-search\").click()\n",
    "sleep(2)\n",
    "driver.implicitly_wait(10)\n",
    "driver.find_element('css selector','#wuSearch-contain').send_keys(\"Valdemoro\")\n",
    "sleep(1)\n",
    "driver.find_element('css selector',\"body > app-root > app-history-search > one-column-layout > wu-header > sidenav > mat-sidenav-container > mat-sidenav-content > div.favoritesBar > div.actions > lib-search\").send_keys(Keys.ENTER)\n",
    "sleep(5)\n",
    "\n",
    "\n",
    "\n"
   ]
  },
  {
   "cell_type": "code",
   "execution_count": null,
   "metadata": {},
   "outputs": [],
   "source": [
    "\n",
    "driver.find_element(\"css selector\",\"#dateSubmit\").click()\n",
    "print(\"Enter enviado\")\n",
    "sleep(5)\n",
    "#Hacer click en Change station\n",
    "print(\"Hacer click en Change station\")\n",
    "driver.find_element(\"css selector\",\"#wuSearch\").click()\n",
    "sleep(3)\n",
    "driver.find_element(\"css selector\",\"#wuSearch\").send_keys(\"Valdemoro\")\n",
    "sleep(2)\n",
    "driver.find_element(\"css selector\",\"#wuSearch\").send_keys(Keys.ENTER)\n",
    "sleep(3)\n",
    "driver.find_element(\"css selector\",\"#inner-content > div.region-content-top > lib-city-header > div:nth-child(1) > div > div > a.station-name\").click()\n",
    "\n",
    "# Buscar si hay mapa \n",
    "sleep(5)\n",
    "wait = WebDriverWait(driver, 20)\n",
    "wait.until(EC.element_to_be_clickable((\"css selector\",\"#__415ea862-8a6a-4346-905a-8112e54f8aae > lib-zoom-control > div > div.zoomOut > i\"))).click()\n",
    "\n",
    "print(\"Hacer click en -\")\n",
    "driver.find_element(\"css selector\",\"#__415ea862-8a6a-4346-905a-8112e54f8aae > lib-zoom-control > div > div.zoomOut > i\").click()\n",
    "sleep(2)\n",
    "driver.find_element(\"css selector\",\"#__415ea862-8a6a-4346-905a-8112e54f8aae > lib-zoom-control > div > div.zoomOut > i\").click()\n",
    "sleep(2)\n",
    "driver.find_element(\"css selector\",\"#__f43072b6-7914-4218-b1fc-aaea3695d8a0 > lib-zoom-control > div > div.zoomOut\").click()\n",
    "sleep(2)\n",
    "driver.find_element(\"css selector\",\"#__f43072b6-7914-4218-b1fc-aaea3695d8a0 > lib-zoom-control > div > div.zoomOut\").click()\n",
    "sleep(2)"
   ]
  },
  {
   "cell_type": "markdown",
   "metadata": {},
   "source": [
    "# FuzzyWuzy para crear un DF con los nombres de las estaciones "
   ]
  },
  {
   "cell_type": "markdown",
   "metadata": {},
   "source": [
    "# Ahora vamos a obtener la tabla de madrid"
   ]
  },
  {
   "cell_type": "code",
   "execution_count": null,
   "metadata": {},
   "outputs": [],
   "source": [
    "driver = webdriver.Chrome() #Para Abrir chrome solo ejecutar once\n",
    "url_wunder = \"https://www.wunderground.com/history\"\n",
    "driver.get(url_wunder)\n",
    "#Maximizar ventana\n",
    "driver.maximize_window() \n",
    "#Durante 20 segundos va a estar intentando hacer click, si lo hace antes para\n",
    "driver.implicitly_wait(1) \n",
    "# Buscamos y hacemos copy selector en inspeccionar para css selector y con .click() hacemos click\n",
    "#Aceptar cookies\n",
    "driver.find_element(\"css selector\", \"#notice > div.message-component.message-row.cta-buttons-container > div.message-component.message-column.cta-button-column.reject-column > button\").click()\n"
   ]
  }
 ],
 "metadata": {
  "kernelspec": {
   "display_name": "Python 3",
   "language": "python",
   "name": "python3"
  },
  "language_info": {
   "codemirror_mode": {
    "name": "ipython",
    "version": 3
   },
   "file_extension": ".py",
   "mimetype": "text/x-python",
   "name": "python",
   "nbconvert_exporter": "python",
   "pygments_lexer": "ipython3",
   "version": "3.11.9"
  }
 },
 "nbformat": 4,
 "nbformat_minor": 2
}
